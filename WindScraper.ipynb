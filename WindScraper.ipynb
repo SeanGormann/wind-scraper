{
 "cells": [
  {
   "cell_type": "code",
   "execution_count": 1,
   "id": "d196ccf7",
   "metadata": {},
   "outputs": [],
   "source": [
    "from bs4 import BeautifulSoup\n",
    "import requests\n",
    "\n",
    "#Gets text from url of choice\n",
    "url = \"https://tides4fishing.com/us/california/south-san-francisco/forecast/wind\"\n",
    "#requests gets text from url\n",
    "txt = requests.get(url)\n",
    "\n",
    "doc = BeautifulSoup(txt.text, \"html.parser\")\n"
   ]
  },
  {
   "cell_type": "code",
   "execution_count": 11,
   "id": "8bc0932b",
   "metadata": {},
   "outputs": [
    {
     "name": "stdout",
     "output_type": "stream",
     "text": [
      "\n",
      "\n",
      "\n",
      "\n",
      "\n",
      " Wind in South San Francisco. Wind forecast hour by hour, wind speed and wind direction in South San Francisco. \n",
      "\n",
      "\n",
      "\n",
      "\n",
      "\n",
      "\n",
      "\n",
      "\n",
      "\n",
      "\n",
      "\n",
      "\n",
      "\n",
      "\n",
      "\n",
      " Tides4fishing cookies are used to personalise content and ads, save your recent fishing sites and remember your display settings. We also share information about your use of our site with our social media, advertising and analytics partners. \n",
      "  See details   OK  \n",
      "\n",
      "    North AmericaUnited StatesCaliforniaSouth San Francisco   Settings   Change language EnglishSpanishFrenchPortugueseItalianGermanJapaneseDate and Time Settings Date Formatdd/mm/yyyymm/dd/yyyyyyyy/mm/ddFirst day of the weekMondaySundayTime format  (12-hour / 24-hour)12-hour  (am/pm)24-hourDefault units Height of the tidesMeters (m)Feet (ft)Weather units°C, km/h, hPa°F, mph, inchesDistance between starskilometers (km)Astronomic unit (AU)My recent sitesSouth San FranciscoWEEKLY FORECAST UTC-7California (\tUS)time change202 days (UTC -8)   Weekly forecastTidesFishingSunrise and sunsetMoonrise and moonset UV exposure level WeatherChance of rainTemperatureHumidityVisibilityAtmospheric pressureWindSurfWater temperature     Fishing forecast  Weekly forecast      Lunar Calendar        App        Settings        Help   WIND FORECASTSouth San FranciscoForecast in South San Francisco for the next 7 daysFORECAST • 7 DAYS   WIND WIND PREDICTIONSOUTH SAN FRANCISCONEXT 7 DAYS18APRMondayWind forecast in South San FranciscoMAX. SPEED12 mph MIN. SPEED1 mph 0 hW4 mph 1 hWSW5 mph 2 hW3 mph 3 hW2 mph 4 hW1 mph 5 hSE1 mph 6 hS2 mph 7 hSSW1 mph 8 hSSE3 mph 9 hSSE3 mph 10 hS4 mph 11 hSW4 mph 12 hSSW6 mph 13 hSSW7 mph 14 hSSW7 mph 15 hSSW9 mph 16 hSW11 mph 17 hSW12 mph 18 hSSW12 mph 19 hSSW12 mph 20 hS12 mph 21 hS11 mph 22 hS11 mph 23 hS11 mph + INFO19APRTuesdayWind forecast in South San FranciscoMAX. SPEED11 mph MIN. SPEED3 mph 0 hS11 mph 1 hS11 mph 2 hSSW9 mph 3 hSSW7 mph 4 hSW6 mph 5 hWSW5 mph 6 hW5 mph 7 hW3 mph 8 hWNW4 mph 9 hWNW3 mph 10 hW4 mph 11 hWNW5 mph 12 hW5 mph 13 hW7 mph 14 hW8 mph 15 hW9 mph 16 hW9 mph 17 hW9 mph 18 hW9 mph 19 hW7 mph 20 hWNW6 mph 21 hWNW6 mph 22 hW5 mph 23 hW3 mph + INFO20APRWednesdayWind forecast in South San FranciscoMAX. SPEED17 mph MIN. SPEED3 mph 0 hSSW3 mph 1 hSSW3 mph 2 hS5 mph 3 hS5 mph 4 hS6 mph 5 hSSE7 mph 6 hSSE9 mph 7 hSSE9 mph 8 hSSE10 mph 9 hS12 mph 10 hS14 mph 11 hS16 mph 12 hSSW17 mph 13 hSSW16 mph 14 hSSW17 mph 15 hSSW17 mph 16 hSSW17 mph 17 hSSW14 mph 18 hSSW17 mph 19 hSSW16 mph 20 hSSW14 mph 21 hSSW14 mph 22 hSSW14 mph 23 hSSW13 mph + INFO21APRThursdayWind forecast in South San FranciscoMAX. SPEED14 mph MIN. SPEED4 mph 0 hSW12 mph 1 hSW10 mph 2 hSW9 mph 3 hWSW8 mph 4 hW6 mph 5 hW5 mph 6 hSSW4 mph 7 hSW5 mph 8 hWSW6 mph 9 hWSW6 mph 10 hWSW5 mph 11 hWSW7 mph 12 hWSW9 mph 13 hWSW12 mph 14 hWSW13 mph 15 hWSW14 mph 16 hWSW14 mph 17 hWSW13 mph 18 hWSW12 mph 19 hWSW11 mph 20 hWSW9 mph 21 hWSW7 mph 22 hSW7 mph 23 hSW7 mph + INFO22APRFridayWind forecast in South San FranciscoMAX. SPEED12 mph MIN. SPEED2 mph 0 hSW7 mph 1 hWSW6 mph 2 hWSW6 mph 3 hWSW5 mph 4 hSW4 mph 5 hSW3 mph 6 hWSW2 mph 7 hSW2 mph 8 hWSW2 mph 9 hW4 mph 10 hWNW6 mph 11 hW7 mph 12 hW9 mph 13 hW11 mph 14 hW11 mph 15 hW12 mph 16 hW12 mph 17 hW12 mph 18 hWNW12 mph 19 hWNW11 mph 20 hWNW10 mph 21 hWNW9 mph 22 hWNW9 mph 23 hWNW8 mph + INFO23APRSaturdayWind forecast in South San FranciscoMAX. SPEED15 mph MIN. SPEED3 mph 0 hWNW7 mph 1 hWNW7 mph 2 hWNW6 mph 3 hNW6 mph 4 hNW5 mph 5 hNW4 mph 6 hNW4 mph 7 hNNW4 mph 8 hNNW4 mph 9 hNNW4 mph 10 hNW4 mph 11 hNW3 mph 12 hWNW6 mph 13 hWNW8 mph 14 hWNW11 mph 15 hWNW12 mph 16 hWNW13 mph 17 hWNW15 mph 18 hWNW14 mph 19 hWNW12 mph 20 hWNW11 mph 21 hWNW9 mph 22 hNW7 mph 23 hNW5 mph + INFO24APRSundayWind forecast in South San FranciscoMAX. SPEED12 mph MIN. SPEED2 mph 0 hNW4 mph 1 hWNW4 mph 2 hWNW4 mph 3 hWNW4 mph 4 hNW3 mph 5 hNW3 mph 6 hWSW2 mph 7 hSSE2 mph 8 hENE2 mph 9 hSSE2 mph 10 hWSW2 mph 11 hNNW2 mph 12 hNNW5 mph 13 hNW7 mph 14 hWNW9 mph 15 hWNW11 mph 16 hWNW11 mph 17 hWNW12 mph 18 hWNW11 mph 19 hWNW9 mph 20 hWNW8 mph 21 hWNW7 mph 22 hWNW6 mph 23 hNW4 mph + INFO E-mail Pinterest Facebook Twitter Whatsapp © TIDES4FISHING | WEATHER FORECAST IN SOUTH SAN FRANCISCO | NEXT 7 DAYS      FISHING SITES CLOSE TO SOUTH SAN FRANCISCO wind in Oyster Point Marina (0.7 mi.) | wind in Point San Bruno (1.4 mi.) | wind in Seaplane Harbor (2.1 mi.) | wind in Hunters Point (5 mi.) | wind in Potrero Point (6 mi.) | wind in Coyote Point Marina (7 mi.) | wind in Rincon Point (Pier 22 1/2) (9 mi.) | wind in Alameda (9 mi.) | wind in Oakland Pier (9 mi.) | wind in San Mateo Bridge (10 mi.) | wind in Alameda Naval Air Station (10 mi.) | wind in Oakland Middle Harbor (10 mi.) | wind in San Francisco (North Point, Pier 41) (10 mi.) | wind in Yerba Buena Island (10 mi.) | wind in Ocean Beach (Outer Coast) (10 mi.) | wind in San Leandro Channel (San Leandro Bay) (10 mi.) | wind in Oakland Inner Harbor (10 mi.) | wind in Roberts Landing (1.3 Miles West Of) (10 mi.) | wind in Oakland Harbor (Grove Street) (10 mi.) | wind in Oakland (Matson Wharf) (10 mi.)  Facebook   Twitter   Pinterest Find your fishing locationFind your fishing locationSEE ALL TIDE TABLE & SOLUNAR CHARTSLUNAR CALENDAROPERATION MANUALLINK TIDES4FISHINGFAQ & CONTACT APP UNDERSTANDING THE TIDESTidesTypes of tidesTidal coefficientTide currentsTides in riversThe tides in the universeHow tides are forecastSOLUNAR CHARTSSolunar chartsThe solunar theorySolunar-Tidal RelationConclusionShare a day of fishing with friends                     Plan now and enjoy your activities at sea with the tides4fishing appEnglishSpanishFrenchPortugueseItalianGermanJapanese Chinese Russian Indonesian Arabic Korean VietnameseCopyright ©2022 tides4fishing.All rights reserved. Legal noticeTides4fishing cookies are used to personalise content and ads, save your recent fishing sites and remember your display settings. We also share information about your use of our site with our social media, advertising and analytics partners.See detailsOK\n",
      "\n",
      "\n",
      "\n"
     ]
    }
   ],
   "source": [
    "print(doc.get_text())"
   ]
  },
  {
   "cell_type": "code",
   "execution_count": 34,
   "id": "abe1659e",
   "metadata": {},
   "outputs": [
    {
     "name": "stdout",
     "output_type": "stream",
     "text": [
      "['1 h', '1 h', '1 h', '1 h', '1 h', '1 h', '1 h']\n",
      "<div class=\"f_temp_hora\">1 h</div>\n",
      "<div class=\"f_temp_hora\">WSW</div>\n",
      "5 mph\n"
     ]
    }
   ],
   "source": [
    "#find all 1h times, monday through friday\n",
    "clock = doc.find_all(text=\"1 h\")\n",
    "#finding windspeed associated with that time\n",
    "parent = clock[0].parent\n",
    "print(clock)\n",
    "print(parent)\n",
    "direction = parent.next_sibling\n",
    "print(direction)\n",
    "speed = direction.next_sibling\n",
    "print(speed.string)\n"
   ]
  },
  {
   "cell_type": "code",
   "execution_count": 41,
   "id": "68618ffe",
   "metadata": {},
   "outputs": [
    {
     "name": "stdout",
     "output_type": "stream",
     "text": [
      "[]\n",
      "['5 mph', '11 mph', '3 mph', '10 mph', '6 mph', '7 mph', '4 mph']\n"
     ]
    }
   ],
   "source": [
    "#learning how to navigate the tree of BS\n",
    "\n",
    "actual_speeds = []\n",
    "print(actual_speeds)\n",
    "for i in range(7):\n",
    "    parent = clock[i].parent\n",
    "    direction = parent.next_sibling\n",
    "    speed = direction.next_sibling\n",
    "    actual_speeds.append(speed.string)\n",
    "    \n",
    "print(actual_speeds)"
   ]
  },
  {
   "cell_type": "code",
   "execution_count": 77,
   "id": "3af2b5a7",
   "metadata": {},
   "outputs": [
    {
     "name": "stdout",
     "output_type": "stream",
     "text": [
      "['5 mph', '11 mph', '3 mph', '10 mph', '6 mph', '7 mph', '4 mph']\n",
      "['7 mph', '7 mph', '16 mph', '12 mph', '11 mph', '8 mph', '7 mph']\n"
     ]
    },
    {
     "data": {
      "text/plain": [
       "list"
      ]
     },
     "execution_count": 77,
     "metadata": {},
     "output_type": "execute_result"
    }
   ],
   "source": [
    "\n",
    "# where hour is the desired hour of the day to retrieve windspeeds from across the week\n",
    "\n",
    "def get_speeds(hour):\n",
    "        time = []\n",
    "        hour = str(hour) + \" h\"\n",
    "        clock = doc.find_all(text=hour)\n",
    "        for i in range(7):\n",
    "            parent = clock[i].parent\n",
    "            direction = parent.next_sibling\n",
    "            speed = direction.next_sibling\n",
    "            time.append(speed.string)\n",
    "        print(time)\n",
    "        return time\n",
    "    \n",
    "Night = get_speeds(1)\n",
    "Midday = get_speeds(13)\n",
    "\n",
    "type(Night)\n"
   ]
  },
  {
   "cell_type": "code",
   "execution_count": 100,
   "id": "e8c3d923",
   "metadata": {},
   "outputs": [
    {
     "name": "stdout",
     "output_type": "stream",
     "text": [
      "['5 mph', '11 mph', '3 mph', '10 mph', '6 mph', '7 mph', '4 mph']\n",
      "[5, 11, 3, 10, 6, 7, 4]\n",
      "[7, 7, 16, 12, 11, 8, 7]\n"
     ]
    }
   ],
   "source": [
    "#clean data\n",
    "\n",
    "Night = get_speeds(1)\n",
    "\n",
    "\n",
    "def clean_data(data):\n",
    "    for i in range(7):\n",
    "        data[i] = int(data[i].replace(\" mph\", \"\"))\n",
    "    return data\n",
    "\n",
    "clean_data(Night)        \n",
    "print(Night)\n",
    "clean_data(Midday)\n",
    "print(Midday)\n"
   ]
  },
  {
   "cell_type": "code",
   "execution_count": 104,
   "id": "2e069675",
   "metadata": {},
   "outputs": [
    {
     "data": {
      "image/png": "[encoded data removed]",
      "text/plain": [
       "<Figure size 432x288 with 1 Axes>"
      ]
     },
     "metadata": {
      "needs_background": "light"
     },
     "output_type": "display_data"
    },
    {
     "name": "stdout",
     "output_type": "stream",
     "text": [
      "None\n"
     ]
    }
   ],
   "source": [
    "#Plotting a graph with extracted data\n",
    "import matplotlib.pyplot as plt\n",
    "from statistics import mean\n",
    "\n",
    "night = mean(Night)\n",
    "midday = mean(Midday)\n",
    "\n",
    "\n",
    "fig = plt.figure()\n",
    "ax = fig.add_axes([0,0,1,1])\n",
    "time = [\"Night\", \"Midday\"]\n",
    "value = [night, midday]\n",
    "ax.bar(time,value)\n",
    "ax.set_ylabel(\"Average windspeed (mph)\")\n",
    "print(plt.show())\n",
    "\n",
    "\n",
    "\n"
   ]
  },
  {
   "cell_type": "code",
   "execution_count": null,
   "id": "8754feed",
   "metadata": {},
   "outputs": [],
   "source": []
  }
 ],
 "metadata": {
  "kernelspec": {
   "display_name": "Python 3 (ipykernel)",
   "language": "python",
   "name": "python3"
  },
  "language_info": {
   "codemirror_mode": {
    "name": "ipython",
    "version": 3
   },
   "file_extension": ".py",
   "mimetype": "text/x-python",
   "name": "python",
   "nbconvert_exporter": "python",
   "pygments_lexer": "ipython3",
   "version": "3.9.7"
  }
 },
 "nbformat": 4,
 "nbformat_minor": 5
}
